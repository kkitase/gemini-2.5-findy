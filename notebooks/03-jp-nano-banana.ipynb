{
 "cells": [
  {
   "cell_type": "markdown",
   "id": "a0eee28e",
   "metadata": {},
   "source": [
    "# Google Colab ではじめる Gemini API、今話題の画像生成 AI モデル「Nano Banana」を試してみよう。\n",
    "\n",
    "「テキストから、あっという間にすごいクオリティの画像が作れたら…」\n",
    "「写真の一部だけを、まるで魔法のように自然に修正したい…」\n",
    "\n",
    "そんな願いを叶える、Google の最新画像生成 AI モデル、通称「Nano Banana」こと `gemini-2.5-flash-image-preview` が登場しました。この記事では、その驚くべき機能と使い方を、ハンズオン形式で学びます。[「Google Colab」](https://colab.research.google.com/) を使って、サンプルコードを実行しながら進めるので、誰でも簡単に最新の画像生成 AI を体験できます。\n",
    "\n",
    "さあ、あなたも言葉を絵に変える魔法を、その手で体験してみませんか？\n",
    "\n",
    "以下のボタンから Notebook を開いて進めましょう。\n",
    "\n",
    "[![Open In Colab](https://colab.research.google.com/assets/colab-badge.svg)](https://colab.research.google.com/github/kkitase/gemini-2.5-findy/blob/main/notebooks/03-jp-nano-banana.ipynb)\n",
    "\n",
    "以降の解説は、Google Colab で実際にコードを実行しながら進めることを想定していますが、コードと解説を読み進めるだけでも学習できます。\n",
    "\n",
    "## 重要: 環境の準備\n",
    "- [セットアップと認証](https://colab.research.google.com/github/kkitase/gemini-2.5-findy/blob/main/notebooks/00-jp-setup-and-authentication.ipynb) のセクションを完了し、`GEMINI_API_KEY` の設定が済んでいることを確認してください。\n",
    "- もしエラーが出たら、[Gemini in Google Colab](https://colab.research.google.com/github/kkitase/gemini-2.5-findy/blob/main/notebooks/00-jp-setup-and-authentication.ipynb#scrollTo=7d140654) を使い、コードの説明やデバッグをして解決を試みてください。\n",
    "\n",
    "## 1. Nano Banana (`gemini-2.5-flash-image-preview`) とは？\n",
    "\n",
    "`gemini-2.5-flash-image-preview` は、Google が開発した最先端の画像生成・編集モデルです。テキストで指示するだけで高品質な画像を生成するだけでなく、既存の画像とテキストを組み合わせて、特定の部分だけを編集したり、複数の画像を合成したりすることもできます。\n",
    "\n",
    "**主な機能:**\n",
    "- **テキストから画像生成**: 詳細な説明文から、リアルな写真やイラストなどを生成します。\n",
    "- **画像編集**: 元の画像に対して「この犬に帽子をかぶせて」のように指示し、一部分だけを自然に編集します。\n",
    "- **複数画像の合成**: 複数の画像の良い部分を組み合わせて、新しい画像を創り出します。\n",
    "- **対話による修正**: 一度の指示で終わらず、「もっと明るくして」のように対話しながら画像の完成度を高めていけます。\n",
    "\n",
    "## 2. テキストから画像を生成する\n",
    "\n",
    "まずは基本のテキストからの画像生成を試してみましょう。プロンプト（指示文）を工夫することで、驚くほど多彩な表現が可能です。"
   ]
  },
  {
   "cell_type": "code",
   "execution_count": null,
   "id": "0a8520c0",
   "metadata": {},
   "outputs": [],
   "source": [
    "# 必要なライブラリをインポート\n",
    "from google import genai\n",
    "from google.colab import userdata\n",
    "from PIL import Image\n",
    "from io import BytesIO\n",
    "\n",
    "# APIキーを設定してクライアントを初期化\n",
    "GEMINI_API_KEY = userdata.get('GEMINI_API_KEY')\n",
    "client = genai.Client(api_key=GEMINI_API_KEY)\n",
    "\n",
    "# 画像生成モデルのID\n",
    "MODEL_ID = \"gemini-2.5-flash-image-preview\"\n",
    "\n",
    "# 画像生成のためのプロンプト（指示文）\n",
    "prompt = \"\"\"\n",
    "太陽の光で深いシワが刻まれた、温かく物知りな笑顔の高齢の日本の陶芸家の写実的なクローズアップポートレート。\n",
    "彼は焼きたての茶碗を注意深く調べている。場所は素朴で日当たりの良い工房。\n",
    "窓から差し込む柔らかく金色の夕方の光が、粘土の細かい質感を際立たせている。\n",
    "85mmのポートレートレンズで撮影され、背景は柔らかくぼけている（ボケ）。\n",
    "全体の雰囲気は穏やかで達人のよう。縦長のポートレート。\n",
    "\"\"\"\n",
    "\n",
    "# モデルを呼び出して画像を生成\n",
    "response = client.models.generate_content(\n",
    "    model=MODEL_ID,\n",
    "    contents=prompt,\n",
    ")\n",
    "\n",
    "# 結果から画像データを抽出し、表示・保存する\n",
    "# 応答には複数のパート（テキストや画像など）が含まれている可能性があるため、ループで処理します\n",
    "for part in response.candidates[0].content.parts:\n",
    "  # パートが画像データの場合\n",
    "  if part.inline_data is not None and part.inline_data.mime_type.startswith('image/'):\n",
    "      # 画像データを読み込んで開きます\n",
    "      image = Image.open(BytesIO(part.inline_data.data))\n",
    "      # 保存するファイル名を定義します\n",
    "      image_filename = 'generated_potter.png'\n",
    "      # 画像をファイルとして保存します\n",
    "      image.save(image_filename)\n",
    "      print(f\"生成された画像を '{image_filename}' として保存しました。\")\n",
    "\n",
    "# Colab上に画像を表示\n",
    "display(image)"
   ]
  },
  {
   "cell_type": "markdown",
   "id": "d469fe7f",
   "metadata": {},
   "source": [
    "## 3. プロンプトのコツ\n",
    "\n",
    "Nano Banana の能力を最大限に引き出すには、プロンプトの書き方が非常に重要です。単語を並べるだけでなく、**情景を物語のように説明する**のが基本です。\n",
    "\n",
    "### 特定のスタイルで描いてほしい時\n",
    "\n",
    "「ステッカースタイルで」「水彩画風で」のように、スタイルをはっきり指定します。背景を透明にしたい場合は「背景は白で」と伝えるのが効果的です。"
   ]
  },
  {
   "cell_type": "code",
   "execution_count": null,
   "id": "764cd9f7",
   "metadata": {},
   "outputs": [],
   "source": [
    "# 画像生成のためのプロンプト（指示文）\n",
    "prompt = \"\"\"\n",
    "小さな竹の帽子をかぶった、幸せそうなレッサーパンダのかわいいスタイルのステッカー。\n",
    "緑の笹の葉をもぐもぐ食べている。\n",
    "デザインは太くクリーンな輪郭線、シンプルなセル画風の陰影、そして鮮やかなカラーパレットが特徴。\n",
    "背景は必ず白にすること。\n",
    "\"\"\"\n",
    "\n",
    "# モデルを呼び出して画像を生成\n",
    "response = client.models.generate_content(\n",
    "    model=MODEL_ID,\n",
    "    contents=prompt,\n",
    ")\n",
    "\n",
    "# 結果から画像データを抽出し、表示・保存する\n",
    "for part in response.candidates[0].content.parts:\n",
    "  if part.inline_data is not None and part.inline_data.mime_type.startswith('image/'):\n",
    "      image = Image.open(BytesIO(part.inline_data.data))\n",
    "      image_filename = 'generated_sticker.png'\n",
    "      image.save(image_filename)\n",
    "      print(f\"生成された画像を '{image_filename}' として保存しました。\")\n",
    "\n",
    "# Colab上に画像を表示\n",
    "display(image)"
   ]
  },
  {
   "cell_type": "markdown",
   "id": "c1830ef2",
   "metadata": {},
   "source": [
    "## 4. 画像を編集する\n",
    "\n",
    "Nano Banana のもう一つの強力な機能が、既存の画像と言葉の指示を組み合わせて編集する機能です。\n",
    "\n",
    "まず、編集したい画像を Colab にアップロードしておきましょう。"
   ]
  },
  {
   "cell_type": "code",
   "execution_count": null,
   "id": "2ae2e25a",
   "metadata": {},
   "outputs": [],
   "source": [
    "# 編集したい画像を準備（サンプルとして猫の画像をダウンロード）\n",
    "!curl -o my_cat.jpg \"https://storage.googleapis.com/generativeai-downloads/images/cat.jpg\"\n",
    "\n",
    "# 画像を開いて表示\n",
    "image_to_edit = Image.open('my_cat.jpg')\n",
    "display(image_to_edit)"
   ]
  },
  {
   "cell_type": "markdown",
   "id": "57fef999",
   "metadata": {},
   "source": [
    "次に、その画像に対して「何をしてほしいか」をテキストで具体的に指示します。"
   ]
  },
  {
   "cell_type": "code",
   "execution_count": null,
   "id": "10ee3fa6",
   "metadata": {},
   "outputs": [],
   "source": [
    "# 画像編集のプロンプト\n",
    "prompt = \"この猫に、パーティー用の小さな帽子をかぶせてください。背景や猫の他の部分は変えないでください。\"\n",
    "\n",
    "# モデルを呼び出して画像を編集\n",
    "response = client.models.generate_content(\n",
    "    model=MODEL_ID,\n",
    "    contents=[prompt, image_to_edit], # テキストプロンプトと画像オブジェクトをリストで渡す\n",
    ")\n",
    "\n",
    "# 結果を表示\n",
    "for part in response.candidates[0].content.parts:\n",
    "  if part.inline_data is not None and part.inline_data.mime_type.startswith('image/'):\n",
    "      edited_image = Image.open(BytesIO(part.inline_data.data))\n",
    "      edited_image.save('edited_cat.png')\n",
    "      print(\"編集された画像を 'edited_cat.png' として保存しました。\")\n",
    "\n",
    "# Colab上に画像を表示\n",
    "display(edited_image)"
   ]
  },
  {
   "cell_type": "markdown",
   "id": "6b1c3980",
   "metadata": {},
   "source": [
    "このように、変更したい部分と、変更したくない部分を明確に指示することで、狙い通りの編集が可能になります。\n",
    "\n",
    "> **注**: 生成されたすべての画像には、信頼性検証のために SynthID ウォーターマークが含まれています。詳細は[公式ドキュメント](https://ai.google.dev/gemini-api/docs/image-generation?hl=ja) をご覧ください。\n",
    "\n",
    "さあ、あなたも様々なプロンプトや手持ちの画像を使って、Nano Banana の無限の可能性を探求してみてください！"
   ]
  }
 ],
 "metadata": {
  "jupytext": {
   "cell_metadata_filter": "-all",
   "main_language": "python",
   "notebook_metadata_filter": "-all"
  }
 },
 "nbformat": 4,
 "nbformat_minor": 5
}
